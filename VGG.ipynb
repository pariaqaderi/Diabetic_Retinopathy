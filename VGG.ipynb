{
 "cells": [
  {
   "cell_type": "code",
   "execution_count": 2,
   "id": "1ca66636",
   "metadata": {},
   "outputs": [],
   "source": [
    "import keras\n",
    "import tensorflow\n",
    "import os\n",
    "from keras.layers import Input\n",
    "from tensorflow.keras.preprocessing.image import ImageDataGenerator\n",
    "from keras.layers import Flatten, Dense, Conv2D, MaxPooling2D, Dropout\n",
    "from tensorflow.keras.layers import Dropout\n",
    "from tensorflow.keras.layers import Flatten\n",
    "from tensorflow.keras.layers import Dense\n",
    "from tensorflow.keras.layers import Input\n",
    "from keras.layers import BatchNormalization\n",
    "from tensorflow.keras import Sequential\n",
    "from tensorflow.keras.optimizers import Adam\n",
    "from tensorflow.keras.preprocessing.image import img_to_array\n",
    "from tensorflow.keras.preprocessing.image import load_img\n",
    "from tensorflow.keras.utils import to_categorical\n",
    "from sklearn.preprocessing import LabelBinarizer\n",
    "from sklearn.model_selection import train_test_split\n",
    "from sklearn.metrics import classification_report\n",
    "from imutils import paths\n",
    "import matplotlib.pyplot as plt\n",
    "from keras.models import Model\n",
    "from sklearn.utils import shuffle\n",
    "from cv2 import imread\n",
    "import numpy as np\n",
    "import pandas as pd"
   ]
  },
  {
   "cell_type": "code",
   "execution_count": 3,
   "id": "503b0904",
   "metadata": {},
   "outputs": [
    {
     "name": "stdout",
     "output_type": "stream",
     "text": [
      "(3662, 150, 150, 3)\n",
      "(3662, 5)\n"
     ]
    }
   ],
   "source": [
    "data = []\n",
    "labels = []\n",
    "width,height=150,150\n",
    "\n",
    "imagePaths = list(paths.list_images('C:\\Jupyters\\envr\\Scripts\\diabetic_retinopathy\\colored_images'))\n",
    "data = []\n",
    "labels = []\n",
    "\n",
    "for imagePath in imagePaths:\n",
    "    label = imagePath.split(os.path.sep)[-2]\n",
    "    #print(imagePath)\n",
    "    image = load_img(imagePath, target_size=(width, height))\n",
    "    image = img_to_array(image)\n",
    "    data.append(image)\n",
    "    labels.append(label)\n",
    "\n",
    "data = np.array(data, dtype=\"float32\")\n",
    "labels = np.array(labels)\n",
    "\n",
    "lb = LabelBinarizer()\n",
    "labels = lb.fit_transform(labels)\n",
    "#labels = to_categorical(labels)\n",
    "\n",
    "data, labels = shuffle(data, labels)\n",
    "\n",
    "print(data.shape)\n",
    "print(labels.shape)"
   ]
  },
  {
   "cell_type": "code",
   "execution_count": 4,
   "id": "eb64a8da",
   "metadata": {},
   "outputs": [
    {
     "name": "stdout",
     "output_type": "stream",
     "text": [
      "Train images: (2746, 150, 150, 3)\n",
      "Test images: (916, 150, 150, 3)\n",
      "Train label: (2746, 5)\n",
      "Test label: (916, 5)\n"
     ]
    }
   ],
   "source": [
    "test_ratio = 0.25\n",
    "\n",
    "# train is now 75% of the entire data set\n",
    "x_train, x_test, y_train, y_test = train_test_split(data, labels, test_size=test_ratio)\n",
    "\n",
    "print(\"Train images:\",x_train.shape)\n",
    "print(\"Test images:\",x_test.shape)\n",
    "print(\"Train label:\",y_train.shape)\n",
    "print(\"Test label:\",y_test.shape)"
   ]
  },
  {
   "cell_type": "code",
   "execution_count": 5,
   "id": "827a805d",
   "metadata": {},
   "outputs": [
    {
     "name": "stdout",
     "output_type": "stream",
     "text": [
      "Model: \"sequential\"\n",
      "_________________________________________________________________\n",
      " Layer (type)                Output Shape              Param #   \n",
      "=================================================================\n",
      " vgg16 (Functional)          (None, 4, 4, 512)         14714688  \n",
      "                                                                 \n",
      " flatten (Flatten)           (None, 8192)              0         \n",
      "                                                                 \n",
      " dense (Dense)               (None, 100)               819300    \n",
      "                                                                 \n",
      " dense_1 (Dense)             (None, 5)                 505       \n",
      "                                                                 \n",
      "=================================================================\n",
      "Total params: 15,534,493\n",
      "Trainable params: 15,534,493\n",
      "Non-trainable params: 0\n",
      "_________________________________________________________________\n"
     ]
    }
   ],
   "source": [
    "from keras.applications.vgg16 import VGG16\n",
    "from keras import layers\n",
    "\n",
    "vgg16 = VGG16(weights=\"C:\\Jupyters\\envr\\Scripts\\weights.h5\", include_top=False, input_shape= (150,150,3)) \n",
    "\n",
    "model = Sequential()\n",
    "model.add(vgg16)\n",
    "model.add(layers.Flatten())\n",
    "model.add(layers.Dense(100, activation = 'relu'))\n",
    "model.add(layers.Dense(5, activation = 'sigmoid'))\n",
    "\n",
    "opt = Adam(learning_rate = 1e-4)\n",
    "model.compile(optimizer=opt, loss='binary_crossentropy', metrics=['accuracy'])\n",
    "model.summary()"
   ]
  },
  {
   "cell_type": "code",
   "execution_count": null,
   "id": "e0d3b700",
   "metadata": {},
   "outputs": [
    {
     "name": "stdout",
     "output_type": "stream",
     "text": [
      "Epoch 1/25\n",
      " 2/86 [..............................] - ETA: 11:48 - loss: 2.7725 - accuracy: 0.2969"
     ]
    }
   ],
   "source": [
    "filepath='best_model__vgg.h5'\n",
    "model.fit(x_train ,y_train ,epochs=25)\n",
    "model.save(filepath)"
   ]
  },
  {
   "cell_type": "code",
   "execution_count": 6,
   "id": "737d05ff",
   "metadata": {},
   "outputs": [
    {
     "name": "stdout",
     "output_type": "stream",
     "text": [
      "[INFO] evaluating network...\n",
      "29/29 [==============================] - 48s 2s/step\n",
      "86/86 [==============================] - 143s 2s/step\n",
      "\n",
      "Trainig Accuracy Score:- 98.36125273124546\n",
      "\n",
      "Testing Accuracy Score:- 78.16593886462883\n",
      "\n",
      "Traning Graph:- \n",
      " \n"
     ]
    },
    {
     "data": {
      "image/png": "[encoded data removed]",
      "text/plain": [
       "<Figure size 432x288 with 1 Axes>"
      ]
     },
     "metadata": {},
     "output_type": "display_data"
    }
   ],
   "source": [
    "from sklearn.metrics import classification_report\n",
    "import matplotlib.pyplot as plt\n",
    "import numpy as np\n",
    "import scikitplot as skplt\n",
    "from sklearn.metrics import accuracy_score\n",
    "import numpy as np\n",
    "from sklearn import metrics\n",
    "\n",
    "predIdxs = model.predict(x_test, batch_size=BS)\n",
    "predIdxs = np.argmax(predIdxs, axis=1)\n",
    "\n",
    "trainpredIdxs = model.predict(x_train, batch_size=BS)\n",
    "trainpredIdxs = np.argmax(trainpredIdxs, axis=1)\n",
    "\n",
    "trainScore=accuracy_score(trainpredIdxs,y_train.argmax(axis=1))*100\n",
    "Score=accuracy_score(predIdxs,y_test.argmax(axis=1))*100\n",
    "\n",
    "print(\"\\nTrainig Accuracy Score:-\",trainScore)\n",
    "print(\"\\nTesting Accuracy Score:-\",Score)\n",
    "print(\"\\nTraning Graph:- \\n \")\n",
    "\n",
    "# plot the training loss and accuracy\n",
    "N = EPOCHS\n",
    "plt.style.use(\"ggplot\")\n",
    "plt.figure()\n",
    "plt.plot(np.arange(0, N), h.history[\"loss\"], label=\"train_loss\")\n",
    "plt.plot(np.arange(0, N), h.history[\"accuracy\"], label=\"train_acc\")\n",
    "plt.title(\"Training Loss and Accuracy\")\n",
    "plt.xlabel(\"Epoch #\")\n",
    "plt.ylabel(\"Loss/Accuracy\")\n",
    "plt.legend(loc=\"lower left\",)\n",
    "plt.show()"
   ]
  },
  {
   "cell_type": "code",
   "execution_count": 7,
   "id": "23a26cef",
   "metadata": {},
   "outputs": [],
   "source": [
    "mild = []\n",
    "No_DR = []\n",
    "Moderate = []\n",
    "Severe = []\n",
    "Proliferate_DR = []\n",
    "\n",
    "mild_labels = []\n",
    "No_DR_labels = []\n",
    "Moderate_labels = []\n",
    "Severe_labels = []\n",
    "Proliferate_DR_labels = []\n",
    "\n",
    "width,height=150,150\n",
    "for imagePath in imagePaths:\n",
    "    label = imagePath.split(os.path.sep)[-2]\n",
    "    if(label == 'Mild'):\n",
    "        image = load_img(imagePath, target_size=(width, height))\n",
    "        image = img_to_array(image)\n",
    "        mild.append(image)\n",
    "        mild_labels.append(0)\n",
    "    if(label == 'No_DR'):\n",
    "        image = load_img(imagePath, target_size=(width, height))\n",
    "        image = img_to_array(image)\n",
    "        No_DR.append(image)\n",
    "        No_DR_labels.append(2)\n",
    "    if(label == 'Moderate'):\n",
    "        image = load_img(imagePath, target_size=(width, height))\n",
    "        image = img_to_array(image)\n",
    "        Moderate.append(image)\n",
    "        Moderate_labels.append(1)\n",
    "    if(label == 'Severe'):\n",
    "        image = load_img(imagePath, target_size=(width, height))\n",
    "        image = img_to_array(image)\n",
    "        Severe.append(image)\n",
    "        Severe_labels.append(4)\n",
    "    if(label == 'Proliferate_DR'):\n",
    "        image = load_img(imagePath, target_size=(width, height))\n",
    "        image = img_to_array(image)\n",
    "        Proliferate_DR.append(image)\n",
    "        Proliferate_DR_labels.append(3)\n",
    "    \n",
    "mild = np.array(mild, dtype=\"float32\")\n",
    "No_DR = np.array(No_DR, dtype=\"float32\")\n",
    "Moderate = np.array(Moderate, dtype=\"float32\")\n",
    "Severe = np.array(Severe, dtype=\"float32\")\n",
    "Proliferate_DR = np.array(Proliferate_DR, dtype=\"float32\")"
   ]
  },
  {
   "cell_type": "code",
   "execution_count": 10,
   "id": "6e06490d",
   "metadata": {},
   "outputs": [
    {
     "name": "stdout",
     "output_type": "stream",
     "text": [
      "86/86 [==============================] - 141s 2s/step\n",
      "29/29 [==============================] - 46s 2s/step\n",
      "(2746, 8192)\n"
     ]
    }
   ],
   "source": [
    "extract = Model(model.inputs, model.layers[-3].output)\n",
    "\n",
    "#del(data)\n",
    "#del(labels)\n",
    "feat_train  = extract.predict(x_train)  \n",
    "feat_test = extract.predict(x_test)      \n",
    "\n",
    "print(feat_train.shape)"
   ]
  },
  {
   "cell_type": "markdown",
   "id": "0213131b",
   "metadata": {},
   "source": [
    "## SVM"
   ]
  },
  {
   "cell_type": "code",
   "execution_count": 12,
   "id": "63d54377",
   "metadata": {},
   "outputs": [
    {
     "name": "stdout",
     "output_type": "stream",
     "text": [
      "SVM Training Accuracy Score:- 99.19883466860888\n",
      "\n",
      "SVM Testing Accuracy Score:- 78.7117903930131\n"
     ]
    }
   ],
   "source": [
    "from sklearn.svm import SVC\n",
    "\n",
    "svm = SVC(kernel='linear')\n",
    "svm.fit(feat_train,np.argmax(y_train,axis=1))\n",
    "\n",
    "TrainSVMScore=svm.score(feat_train,np.argmax(y_train,axis=1))*100\n",
    "print(\"SVM Training Accuracy Score:-\",TrainSVMScore)\n",
    "\n",
    "TestSVMScore=svm.score(feat_test,np.argmax(y_test,axis=1))*100\n",
    "print(\"\\nSVM Testing Accuracy Score:-\",TestSVMScore)"
   ]
  },
  {
   "cell_type": "markdown",
   "id": "2c26f14f",
   "metadata": {},
   "source": [
    "## Decision Tree"
   ]
  },
  {
   "cell_type": "code",
   "execution_count": 13,
   "id": "8f693e2f",
   "metadata": {},
   "outputs": [
    {
     "name": "stdout",
     "output_type": "stream",
     "text": [
      "Decision Tree Training Accuracy Score:- 99.2352512745812\n",
      "\n",
      "Decision Tree Testing Accuracy Score:- 73.0349344978166\n"
     ]
    }
   ],
   "source": [
    "from sklearn.tree import DecisionTreeClassifier\n",
    "\n",
    "clf = DecisionTreeClassifier(random_state=0)\n",
    "clf = clf.fit(feat_train,np.argmax(y_train,axis=1))\n",
    "\n",
    "TrainDecisionScore=clf.score(feat_train,np.argmax(y_train,axis=1))*100\n",
    "print(\"Decision Tree Training Accuracy Score:-\",TrainDecisionScore)\n",
    "\n",
    "\n",
    "TestDecisionScore=clf.score(feat_test,np.argmax(y_test,axis=1))*100\n",
    "print(\"\\nDecision Tree Testing Accuracy Score:-\",TestDecisionScore)"
   ]
  },
  {
   "cell_type": "markdown",
   "id": "6b4cab1d",
   "metadata": {},
   "source": [
    "## KNN"
   ]
  },
  {
   "cell_type": "code",
   "execution_count": 14,
   "id": "2375949c",
   "metadata": {},
   "outputs": [
    {
     "name": "stdout",
     "output_type": "stream",
     "text": [
      "KNN Training Accuracy Score:- 97.01383831026948\n",
      "\n",
      "KNN Testing Accuracy Score:- 78.60262008733623\n"
     ]
    }
   ],
   "source": [
    "from sklearn.neighbors import KNeighborsClassifier\n",
    "\n",
    "knn = KNeighborsClassifier(n_neighbors=5)\n",
    "knn.fit(feat_train,np.argmax(y_train,axis=1))\n",
    "\n",
    "TrainKNNScore=knn.score(feat_train,np.argmax(y_train,axis=1))*100\n",
    "print(\"KNN Training Accuracy Score:-\",TrainKNNScore)\n",
    "\n",
    "TestKNNScore=knn.score(feat_test,np.argmax(y_test,axis=1))*100\n",
    "print(\"\\nKNN Testing Accuracy Score:-\",TestKNNScore)"
   ]
  },
  {
   "cell_type": "code",
   "execution_count": 16,
   "id": "4bf44982",
   "metadata": {
    "scrolled": true
   },
   "outputs": [
    {
     "name": "stdout",
     "output_type": "stream",
     "text": [
      "12/12 [==============================] - 19s 2s/step\n",
      "57/57 [==============================] - 91s 2s/step\n",
      "32/32 [==============================] - 80s 3s/step\n",
      "7/7 [==============================] - 18s 3s/step\n",
      "10/10 [==============================] - 23s 2s/step\n",
      "\n",
      "KNN Mild Accuracy Score:- 84.86486486486487\n",
      "\n",
      "KNN NO DR Accuracy Score:- 99.16897506925207\n",
      "\n",
      "KNN Moderate Accuracy Score:- 93.1931931931932\n",
      "\n",
      "KNN Severe Accuracy Score:- 64.24870466321244\n",
      "\n",
      "KNN Proliferate DR Accuracy Score:- 76.27118644067797\n"
     ]
    }
   ],
   "source": [
    "mild_fit = extract.predict(mild)  \n",
    "No_DR_fit = extract.predict(No_DR)  \n",
    "Moderate_fit = extract.predict(Moderate)  \n",
    "Severe_fit = extract.predict(Severe)  \n",
    "Proliferate_DR_fit = extract.predict(Proliferate_DR)  \n",
    "\n",
    "mild_knn_score = knn.score(mild_fit,mild_labels)*100\n",
    "No_DR_knn_score = knn.score(No_DR_fit,No_DR_labels)*100\n",
    "Moderate_knn_score = knn.score(Moderate_fit,Moderate_labels)*100\n",
    "Severe_knn_score = knn.score(Severe_fit,Severe_labels)*100\n",
    "Proliferate_DR_knn_score = knn.score(Proliferate_DR_fit,Proliferate_DR_labels)*100\n",
    "\n",
    "print(\"\\nKNN Mild Accuracy Score:-\",mild_knn_score)\n",
    "print(\"\\nKNN NO DR Accuracy Score:-\",No_DR_knn_score)\n",
    "print(\"\\nKNN Moderate Accuracy Score:-\",Moderate_knn_s\n",
    "      core)\n",
    "print(\"\\nKNN Severe Accuracy Score:-\",Severe_knn_score)\n",
    "print(\"\\nKNN Proliferate DR Accuracy Score:-\",Proliferate_DR_knn_score)"
   ]
  },
  {
   "cell_type": "markdown",
   "id": "d5359a87",
   "metadata": {},
   "source": [
    "## Gaussian Naive Bayes"
   ]
  },
  {
   "cell_type": "code",
   "execution_count": 15,
   "id": "82499d77",
   "metadata": {},
   "outputs": [
    {
     "name": "stdout",
     "output_type": "stream",
     "text": [
      "\n",
      "GaussianNaive Bayes Training Accuracy Score:- 70.35688273852877\n",
      "\n",
      "GaussianNaive Bayes Testing Accuracy Score:- 56.00436681222707\n"
     ]
    }
   ],
   "source": [
    "from sklearn.naive_bayes import GaussianNB\n",
    "\n",
    "gnb = GaussianNB()\n",
    "gnb.fit(feat_train,np.argmax(y_train,axis=1))\n",
    "\n",
    "TrainNBScore=gnb.score(feat_train,np.argmax(y_train,axis=1))*100\n",
    "print(\"\\nGaussianNaive Bayes Training Accuracy Score:-\",TrainNBScore)\n",
    "\n",
    "TestNBScore=gnb.score(feat_test,np.argmax(y_test,axis=1))*100\n",
    "print(\"\\nGaussianNaive Bayes Testing Accuracy Score:-\",TestNBScore)"
   ]
  },
  {
   "cell_type": "code",
   "execution_count": 18,
   "id": "cba91499",
   "metadata": {},
   "outputs": [
    {
     "name": "stdout",
     "output_type": "stream",
     "text": [
      "--Training Accuracy..\n",
      "VGG Accuracy:- 98.47 %\n",
      "VGG-SVM Accuracy:- 99.31 %\n",
      "VGG-DT Accuracy:- 99.31 %\n",
      "VGG-KNN Accuracy:- 97.01 %\n",
      "VGG-NB Accuracy:- 91.33 %\n",
      "\n",
      "--Testing Accuracy..\n",
      "VGG Accuracy:- 78.17 %\n",
      "VGG-SVM Accuracy:- 78.71 %\n",
      "VGG-DT Accuracy:- 72.38 %\n",
      "VGG-KNN Accuracy:- 80.24 %\n",
      "VGG-NB Accuracy:- 71.07 %\n"
     ]
    }
   ],
   "source": [
    "print(\"--Training Accuracy..\")\n",
    "print(\"VGG Accuracy:- {:.2f} %\".format(trainScore))\n",
    "print(\"VGG-SVM Accuracy:- {:.2f} %\".format(TrainSVMScore))\n",
    "print(\"VGG-DT Accuracy:- {:.2f} %\".format(TrainDecisionScore))\n",
    "print(\"VGG-KNN Accuracy:- {:.2f} %\".format(TrainKNNScore))\n",
    "print(\"VGG-NB Accuracy:- {:.2f} %\".format(TrainNBScore))\n",
    "\n",
    "print(\"\\n--Testing Accuracy..\")\n",
    "print(\"VGG Accuracy:- {:.2f} %\".format(Score))\n",
    "print(\"VGG-SVM Accuracy:- {:.2f} %\".format(TestSVMScore))\n",
    "print(\"VGG-DT Accuracy:- {:.2f} %\".format(TestDecisionScore))\n",
    "print(\"VGG-KNN Accuracy:- {:.2f} %\".format(TestKNNScore))\n",
    "print(\"VGG-NB Accuracy:- {:.2f} %\".format(TestNBScore))"
   ]
  }
 ],
 "metadata": {
  "kernelspec": {
   "display_name": "Python 3 (ipykernel)",
   "language": "python",
   "name": "python3"
  },
  "language_info": {
   "codemirror_mode": {
    "name": "ipython",
    "version": 3
   },
   "file_extension": ".py",
   "mimetype": "text/x-python",
   "name": "python",
   "nbconvert_exporter": "python",
   "pygments_lexer": "ipython3",
   "version": "3.8.10"
  }
 },
 "nbformat": 4,
 "nbformat_minor": 5
}
