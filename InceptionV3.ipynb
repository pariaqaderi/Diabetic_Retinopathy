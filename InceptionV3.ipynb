{
 "cells": [
  {
   "cell_type": "code",
   "execution_count": 1,
   "id": "a0ff40f6",
   "metadata": {},
   "outputs": [],
   "source": [
    "import keras\n",
    "import tensorflow\n",
    "import os\n",
    "from keras.layers import Input\n",
    "from tensorflow.keras.preprocessing.image import ImageDataGenerator\n",
    "from keras.layers import Flatten, Dense, Conv2D, MaxPooling2D, Dropout\n",
    "from tensorflow.keras.layers import Dropout\n",
    "from tensorflow.keras.layers import Flatten\n",
    "from tensorflow.keras.layers import Dense\n",
    "from tensorflow.keras.layers import Input\n",
    "from keras.layers import BatchNormalization\n",
    "from tensorflow.keras import Sequential\n",
    "from tensorflow.keras.optimizers import Adam\n",
    "from tensorflow.keras.preprocessing.image import img_to_array\n",
    "from tensorflow.keras.preprocessing.image import load_img\n",
    "from tensorflow.keras.utils import to_categorical\n",
    "from sklearn.preprocessing import LabelBinarizer\n",
    "from sklearn.model_selection import train_test_split\n",
    "from sklearn.metrics import classification_report\n",
    "from imutils import paths\n",
    "import matplotlib.pyplot as plt\n",
    "from keras.models import Model\n",
    "from sklearn.utils import shuffle\n",
    "from cv2 import imread\n",
    "import numpy as np\n",
    "import pandas as pd"
   ]
  },
  {
   "cell_type": "code",
   "execution_count": 2,
   "id": "95583429",
   "metadata": {},
   "outputs": [
    {
     "name": "stdout",
     "output_type": "stream",
     "text": [
      "(3662, 150, 150, 3)\n",
      "(3662, 5)\n"
     ]
    }
   ],
   "source": [
    "data = []\n",
    "labels = []\n",
    "width,height=150,150\n",
    "\n",
    "imagePaths = list(paths.list_images('C:\\Jupyters\\envr\\Scripts\\diabetic_retinopathy\\colored_images'))\n",
    "data = []\n",
    "labels = []\n",
    "\n",
    "for imagePath in imagePaths:\n",
    "    label = imagePath.split(os.path.sep)[-2]\n",
    "    #print(imagePath)\n",
    "    image = load_img(imagePath, target_size=(width, height))\n",
    "    image = img_to_array(image)\n",
    "    data.append(image)\n",
    "    labels.append(label)\n",
    "\n",
    "data = np.array(data, dtype=\"float32\")\n",
    "labels = np.array(labels)\n",
    "\n",
    "lb = LabelBinarizer()\n",
    "labels = lb.fit_transform(labels)\n",
    "#labels = to_categorical(labels)\n",
    "\n",
    "data, labels = shuffle(data, labels)\n",
    "\n",
    "print(data.shape)\n",
    "print(labels.shape)"
   ]
  },
  {
   "cell_type": "code",
   "execution_count": 3,
   "id": "5beaa090",
   "metadata": {},
   "outputs": [
    {
     "name": "stdout",
     "output_type": "stream",
     "text": [
      "Train images: (2746, 150, 150, 3)\n",
      "Test images: (916, 150, 150, 3)\n",
      "Train label: (2746, 5)\n",
      "Test label: (916, 5)\n"
     ]
    }
   ],
   "source": [
    "test_ratio = 0.25\n",
    "\n",
    "# train is now 75% of the entire data set\n",
    "x_train, x_test, y_train, y_test = train_test_split(data, labels, test_size=test_ratio)\n",
    "\n",
    "print(\"Train images:\",x_train.shape)\n",
    "print(\"Test images:\",x_test.shape)\n",
    "print(\"Train label:\",y_train.shape)\n",
    "print(\"Test label:\",y_test.shape)"
   ]
  },
  {
   "cell_type": "code",
   "execution_count": 4,
   "id": "25db8f4c",
   "metadata": {},
   "outputs": [
    {
     "name": "stdout",
     "output_type": "stream",
     "text": [
      "Model: \"sequential\"\n",
      "_________________________________________________________________\n",
      " Layer (type)                Output Shape              Param #   \n",
      "=================================================================\n",
      " inception_v3 (Functional)   (None, 3, 3, 2048)        21802784  \n",
      "                                                                 \n",
      " flatten (Flatten)           (None, 18432)             0         \n",
      "                                                                 \n",
      " dense (Dense)               (None, 100)               1843300   \n",
      "                                                                 \n",
      " dense_1 (Dense)             (None, 5)                 505       \n",
      "                                                                 \n",
      "=================================================================\n",
      "Total params: 23,646,589\n",
      "Trainable params: 23,612,157\n",
      "Non-trainable params: 34,432\n",
      "_________________________________________________________________\n"
     ]
    }
   ],
   "source": [
    "from keras.models import Model\n",
    "from keras.layers import Input \n",
    "from keras.applications.inception_v3 import InceptionV3\n",
    "from keras import layers\n",
    "\n",
    "INIT_LR = 1e-4\n",
    "EPOCHS = 25\n",
    "BS = 32\n",
    "\n",
    "InceptionV3 = InceptionV3(weights=\"C:\\Jupyters\\envr\\Scripts\\inception_v3_weights_tf_dim_ordering_tf_kernels_notop.h5\", include_top=False,input_shape= (150,150,3))\n",
    "\n",
    "model = Sequential()\n",
    "model.add(InceptionV3)\n",
    "model.add(layers.Flatten())\n",
    "model.add(layers.Dense(100, activation = 'relu'))\n",
    "model.add(layers.Dense(5, activation = 'sigmoid'))\n",
    "\n",
    "opt = Adam(learning_rate=INIT_LR)\n",
    "model.compile(optimizer=opt, loss='binary_crossentropy', metrics=['accuracy'])\n",
    "model.summary()"
   ]
  },
  {
   "cell_type": "code",
   "execution_count": 5,
   "id": "cba9dcda",
   "metadata": {},
   "outputs": [
    {
     "name": "stdout",
     "output_type": "stream",
     "text": [
      "Epoch 1/25\n",
      "86/86 [==============================] - 215s 2s/step - loss: 0.2834 - accuracy: 0.7043\n",
      "Epoch 2/25\n",
      "86/86 [==============================] - 208s 2s/step - loss: 0.1767 - accuracy: 0.8052\n",
      "Epoch 3/25\n",
      "86/86 [==============================] - 208s 2s/step - loss: 0.1276 - accuracy: 0.8765\n",
      "Epoch 4/25\n",
      "86/86 [==============================] - 453s 5s/step - loss: 0.0758 - accuracy: 0.9395\n",
      "Epoch 5/25\n",
      "86/86 [==============================] - 197s 2s/step - loss: 0.0522 - accuracy: 0.9607\n",
      "Epoch 6/25\n",
      "86/86 [==============================] - 207s 2s/step - loss: 0.0325 - accuracy: 0.9763\n",
      "Epoch 7/25\n",
      "86/86 [==============================] - 245s 3s/step - loss: 0.0313 - accuracy: 0.9745\n",
      "Epoch 8/25\n",
      "86/86 [==============================] - 192s 2s/step - loss: 0.0370 - accuracy: 0.9694\n",
      "Epoch 9/25\n",
      "86/86 [==============================] - 206s 2s/step - loss: 0.0313 - accuracy: 0.9723\n",
      "Epoch 10/25\n",
      "86/86 [==============================] - 210s 2s/step - loss: 0.0268 - accuracy: 0.9763\n",
      "Epoch 11/25\n",
      "86/86 [==============================] - 481s 6s/step - loss: 0.0212 - accuracy: 0.9814\n",
      "Epoch 12/25\n",
      "86/86 [==============================] - 190s 2s/step - loss: 0.0161 - accuracy: 0.9840\n",
      "Epoch 13/25\n",
      "86/86 [==============================] - 204s 2s/step - loss: 0.0232 - accuracy: 0.9796\n",
      "Epoch 14/25\n",
      "86/86 [==============================] - 1141s 13s/step - loss: 0.0182 - accuracy: 0.9796\n",
      "Epoch 15/25\n",
      "86/86 [==============================] - 239s 3s/step - loss: 0.0133 - accuracy: 0.9862\n",
      "Epoch 16/25\n",
      "86/86 [==============================] - 216s 3s/step - loss: 0.0166 - accuracy: 0.9840\n",
      "Epoch 17/25\n",
      "86/86 [==============================] - 213s 2s/step - loss: 0.0152 - accuracy: 0.9858\n",
      "Epoch 18/25\n",
      "86/86 [==============================] - 218s 3s/step - loss: 0.0206 - accuracy: 0.9807\n",
      "Epoch 19/25\n",
      "86/86 [==============================] - 215s 3s/step - loss: 0.0221 - accuracy: 0.9785\n",
      "Epoch 20/25\n",
      "86/86 [==============================] - 208s 2s/step - loss: 0.0228 - accuracy: 0.9771\n",
      "Epoch 21/25\n",
      "86/86 [==============================] - 210s 2s/step - loss: 0.0165 - accuracy: 0.9829\n",
      "Epoch 22/25\n",
      "86/86 [==============================] - 214s 2s/step - loss: 0.0260 - accuracy: 0.9727\n",
      "Epoch 23/25\n",
      "86/86 [==============================] - 290s 3s/step - loss: 0.0178 - accuracy: 0.9800\n",
      "Epoch 24/25\n",
      "86/86 [==============================] - 377s 4s/step - loss: 0.0154 - accuracy: 0.9822\n",
      "Epoch 25/25\n",
      "86/86 [==============================] - 273s 3s/step - loss: 0.0190 - accuracy: 0.9782\n"
     ]
    }
   ],
   "source": [
    "filepath='best_model__ince.h5'\n",
    "h = model.fit(x_train,y_train,epochs=25);\n",
    "model.save(filepath)"
   ]
  },
  {
   "cell_type": "code",
   "execution_count": 9,
   "id": "3cd5cad5",
   "metadata": {},
   "outputs": [],
   "source": [
    "mild = []\n",
    "No_DR = []\n",
    "Moderate = []\n",
    "Severe = []\n",
    "Proliferate_DR = []\n",
    "\n",
    "mild_labels = []\n",
    "No_DR_labels = []\n",
    "Moderate_labels = []\n",
    "Severe_labels = []\n",
    "Proliferate_DR_labels = []\n",
    "\n",
    "width,height=150,150\n",
    "for imagePath in imagePaths:\n",
    "    label = imagePath.split(os.path.sep)[-2]\n",
    "    if(label == 'Mild'):\n",
    "        image = load_img(imagePath, target_size=(width, height))\n",
    "        image = img_to_array(image)\n",
    "        mild.append(image)\n",
    "        mild_labels.append(0)\n",
    "    if(label == 'No_DR'):\n",
    "        image = load_img(imagePath, target_size=(width, height))\n",
    "        image = img_to_array(image)\n",
    "        No_DR.append(image)\n",
    "        No_DR_labels.append(2)\n",
    "    if(label == 'Moderate'):\n",
    "        image = load_img(imagePath, target_size=(width, height))\n",
    "        image = img_to_array(image)\n",
    "        Moderate.append(image)\n",
    "        Moderate_labels.append(1)\n",
    "    if(label == 'Severe'):\n",
    "        image = load_img(imagePath, target_size=(width, height))\n",
    "        image = img_to_array(image)\n",
    "        Severe.append(image)\n",
    "        Severe_labels.append(4)\n",
    "    if(label == 'Proliferate_DR'):\n",
    "        image = load_img(imagePath, target_size=(width, height))\n",
    "        image = img_to_array(image)\n",
    "        Proliferate_DR.append(image)\n",
    "        Proliferate_DR_labels.append(3)\n",
    "    \n",
    "mild = np.array(mild, dtype=\"float32\")\n",
    "No_DR = np.array(No_DR, dtype=\"float32\")\n",
    "Moderate = np.array(Moderate, dtype=\"float32\")\n",
    "Severe = np.array(Severe, dtype=\"float32\")\n",
    "Proliferate_DR = np.array(Proliferate_DR, dtype=\"float32\")"
   ]
  },
  {
   "cell_type": "code",
   "execution_count": 10,
   "id": "537ed8fa",
   "metadata": {},
   "outputs": [
    {
     "name": "stdout",
     "output_type": "stream",
     "text": [
      "29/29 [==============================] - 9s 287ms/step\n",
      "86/86 [==============================] - 27s 315ms/step\n",
      "\n",
      "Trainig Accuracy Score:- 98.1427530954115\n",
      "\n",
      "Testing Accuracy Score:- 77.62008733624454\n",
      "\n",
      "Traning Graph:- \n",
      " \n"
     ]
    },
    {
     "data": {
      "image/png": "[encoded data removed]",
      "text/plain": [
       "<Figure size 432x288 with 1 Axes>"
      ]
     },
     "metadata": {},
     "output_type": "display_data"
    }
   ],
   "source": [
    " from sklearn.metrics import classification_report\n",
    "import matplotlib.pyplot as plt\n",
    "import numpy as np\n",
    "import scikitplot as skplt\n",
    "from sklearn.metrics import accuracy_score\n",
    "import numpy as np\n",
    "from sklearn import metrics\n",
    "\n",
    "predIdxs = model.predict(x_test, batch_size=BS)\n",
    "predIdxs = np.argmax(predIdxs, axis=1)\n",
    "\n",
    "trainpredIdxs = model.predict(x_train, batch_size=BS)\n",
    "trainpredIdxs = np.argmax(trainpredIdxs, axis=1)\n",
    "\n",
    "trainScore=accuracy_score(trainpredIdxs,y_train.argmax(axis=1))*100\n",
    "Score=accuracy_score(predIdxs,y_test.argmax(axis=1))*100\n",
    "\n",
    "print(\"\\nTrainig Accuracy Score:-\",trainScore)\n",
    "print(\"\\nTesting Accuracy Score:-\",Score)\n",
    "print(\"\\nTraning Graph:- \\n \")\n",
    "\n",
    "# plot the training loss and accuracy\n",
    "N = EPOCHS\n",
    "plt.style.use(\"ggplot\") \n",
    "plt.figure()\n",
    "plt.plot(np.arange(0, N), h.history[\"loss\"], label=\"train_loss\")\n",
    "plt.plot(np.arange(0, N), h.history[\"accuracy\"], label=\"train_acc\")\n",
    "plt.title(\"Training Loss and Accuracy\")\n",
    "plt.xlabel(\"Epoch #\")\n",
    "plt.ylabel(\"Loss/Accuracy\")\n",
    "plt.legend(loc=\"lower left\",)\n",
    "plt.show()"
   ]
  },
  {
   "cell_type": "code",
   "execution_count": 11,
   "id": "6c0c21c9",
   "metadata": {},
   "outputs": [
    {
     "name": "stdout",
     "output_type": "stream",
     "text": [
      "86/86 [==============================] - 28s 312ms/step\n",
      "29/29 [==============================] - 9s 321ms/step\n",
      "(2746, 18432)\n"
     ]
    }
   ],
   "source": [
    "extract = Model(model.inputs, model.layers[-3].output)\n",
    "\n",
    "#del(data)\n",
    "#del(labels)\n",
    "feat_train  = extract.predict(x_train)  \n",
    "feat_test = extract.predict(x_test)      \n",
    "\n",
    "print(feat_train.shape)"
   ]
  },
  {
   "cell_type": "markdown",
   "id": "ea07231c",
   "metadata": {},
   "source": [
    "## SVM"
   ]
  },
  {
   "cell_type": "code",
   "execution_count": 17,
   "id": "1823c297",
   "metadata": {},
   "outputs": [
    {
     "name": "stdout",
     "output_type": "stream",
     "text": [
      "SVM Training Accuracy Score:- 99.45375091041515\n",
      "\n",
      "SVM Testing Accuracy Score:- 78.49344978165938\n"
     ]
    }
   ],
   "source": [
    "from sklearn.svm import SVC\n",
    "\n",
    "svm = SVC(kernel='linear')\n",
    "svm.fit(feat_train,np.argmax(y_train,axis=1))\n",
    "\n",
    "TrainSVMScore=svm.score(feat_train,np.argmax(y_train,axis=1))*100\n",
    "print(\"SVM Training Accuracy Score:-\",TrainSVMScore)\n",
    "\n",
    "TestSVMScore=svm.score(feat_test,np.argmax(y_test,axis=1))*100\n",
    "print(\"\\nSVM Testing Accuracy Score:-\",TestSVMScore)"
   ]
  },
  {
   "cell_type": "code",
   "execution_count": 19,
   "id": "835bbec4",
   "metadata": {},
   "outputs": [
    {
     "name": "stdout",
     "output_type": "stream",
     "text": [
      "12/12 [==============================] - 3s 266ms/step\n",
      "57/57 [==============================] - 16s 277ms/step\n",
      "32/32 [==============================] - 10s 299ms/step\n",
      "7/7 [==============================] - 2s 258ms/step\n",
      "10/10 [==============================] - 3s 281ms/step\n",
      "\n",
      "SVM Mild Accuracy Score:- 88.10810810810811\n",
      "\n",
      "SVM NO DR Accuracy Score:- 99.33518005540166\n",
      "\n",
      "SVM Moderate Accuracy Score:- 92.992992992993\n",
      "\n",
      "SVM Severe Accuracy Score:- 81.86528497409327\n",
      "\n",
      "SVM Proliferate DR Accuracy Score:- 82.71186440677965\n"
     ]
    }
   ],
   "source": [
    "mild_fit = extract.predict(mild)  \n",
    "No_DR_fit = extract.predict(No_DR)  \n",
    "Moderate_fit = extract.predict(Moderate)  \n",
    "Severe_fit = extract.predict(Severe)  \n",
    "Proliferate_DR_fit = extract.predict(Proliferate_DR)  \n",
    "\n",
    "mild_svm_score = svm.score(mild_fit,mild_labels)*100\n",
    "No_DR_svm_score = svm.score(No_DR_fit,No_DR_labels)*100\n",
    "Moderate_svm_score = svm.score(Moderate_fit,Moderate_labels)*100\n",
    "Severe_svm_score = svm.score(Severe_fit,Severe_labels)*100\n",
    "Proliferate_DR_svm_score = svm.score(Proliferate_DR_fit,Proliferate_DR_labels)*100\n",
    "\n",
    "print(\"\\nSVM Mild Accuracy Score:-\",mild_svm_score)\n",
    "print(\"\\nSVM NO DR Accuracy Score:-\",No_DR_svm_score)\n",
    "print(\"\\nSVM Moderate Accuracy Score:-\",Moderate_svm_score)\n",
    "print(\"\\nSVM Severe Accuracy Score:-\",Severe_svm_score)\n",
    "print(\"\\nSVM Proliferate DR Accuracy Score:-\",Proliferate_DR_svm_score)"
   ]
  },
  {
   "cell_type": "markdown",
   "id": "92ed03e0",
   "metadata": {},
   "source": [
    "## Decision Tree"
   ]
  },
  {
   "cell_type": "code",
   "execution_count": 9,
   "id": "c2f0826d",
   "metadata": {},
   "outputs": [
    {
     "name": "stdout",
     "output_type": "stream",
     "text": [
      "Decision Tree Training Accuracy Score:- 99.2352512745812\n",
      "\n",
      "Decision Tree Testing Accuracy Score:- 73.14410480349345\n"
     ]
    }
   ],
   "source": [
    "from sklearn.tree import DecisionTreeClassifier\n",
    "\n",
    "clf = DecisionTreeClassifier(random_state=0)\n",
    "clf = clf.fit(feat_train,np.argmax(y_train,axis=1))\n",
    "\n",
    "TrainDecisionScore=clf.score(feat_train,np.argmax(y_train,axis=1))*100\n",
    "print(\"Decision Tree Training Accuracy Score:-\",TrainDecisionScore)\n",
    "\n",
    "\n",
    "TestDecisionScore=clf.score(feat_test,np.argmax(y_test,axis=1))*100\n",
    "print(\"\\nDecision Tree Testing Accuracy Score:-\",TestDecisionScore)"
   ]
  },
  {
   "cell_type": "markdown",
   "id": "de1cf7ee",
   "metadata": {},
   "source": [
    "## KNN"
   ]
  },
  {
   "cell_type": "code",
   "execution_count": 10,
   "id": "b156394b",
   "metadata": {},
   "outputs": [
    {
     "name": "stdout",
     "output_type": "stream",
     "text": [
      "KNN Training Accuracy Score:- 98.03350327749453\n",
      "\n",
      "KNN Testing Accuracy Score:- 74.235807860262\n"
     ]
    }
   ],
   "source": [
    "from sklearn.neighbors import KNeighborsClassifier\n",
    "\n",
    "knn = KNeighborsClassifier(n_neighbors=5)\n",
    "knn.fit(feat_train,np.argmax(y_train,axis=1))\n",
    "\n",
    "TrainKNNScore=knn.score(feat_train,np.argmax(y_train,axis=1))*100\n",
    "print(\"KNN Training Accuracy Score:-\",TrainKNNScore)\n",
    "\n",
    "TestKNNScore=knn.score(feat_test,np.argmax(y_test,axis=1))*100\n",
    "print(\"\\nKNN Testing Accuracy Score:-\",TestKNNScore)"
   ]
  },
  {
   "cell_type": "markdown",
   "id": "0244c9c9",
   "metadata": {},
   "source": [
    "## Gaussian Naive Bayes"
   ]
  },
  {
   "cell_type": "code",
   "execution_count": 11,
   "id": "4d01b232",
   "metadata": {},
   "outputs": [
    {
     "name": "stdout",
     "output_type": "stream",
     "text": [
      "\n",
      "GaussianNaive Bayes Training Accuracy Score:- 98.1427530954115\n",
      "\n",
      "GaussianNaive Bayes Testing Accuracy Score:- 73.90829694323145\n"
     ]
    }
   ],
   "source": [
    "from sklearn.naive_bayes import GaussianNB\n",
    "\n",
    "gnb = GaussianNB()\n",
    "gnb.fit(feat_train,np.argmax(y_train,axis=1))\n",
    "\n",
    "TrainNBScore=gnb.score(feat_train,np.argmax(y_train,axis=1))*100\n",
    "print(\"\\nGaussianNaive Bayes Training Accuracy Score:-\",TrainNBScore)\n",
    "\n",
    "TestNBScore=gnb.score(feat_test,np.argmax(y_test,axis=1))*100\n",
    "print(\"\\nGaussianNaive Bayes Testing Accuracy Score:-\",TestNBScore)"
   ]
  },
  {
   "cell_type": "code",
   "execution_count": 13,
   "id": "0fa5697c",
   "metadata": {},
   "outputs": [
    {
     "name": "stdout",
     "output_type": "stream",
     "text": [
      "--Training Accuracy..\n",
      "inception Accuracy:- 98.40 %\n",
      "inception-SVM Accuracy:- 99.24 %\n",
      "inception-DT Accuracy:- 99.24 %\n",
      "inception-KNN Accuracy:- 98.03 %\n",
      "inception-NB Accuracy:- 98.14 %\n",
      "\n",
      "--Testing Accuracy..\n",
      "inception Accuracy:- 75.98 %\n",
      "inception-SVM Accuracy:- 78.60 %\n",
      "inception-DT Accuracy:- 73.14 %\n",
      "inception-KNN Accuracy:- 74.24 %\n",
      "inception-NB Accuracy:- 73.91 %\n"
     ]
    }
   ],
   "source": [
    "print(\"--Training Accuracy..\")\n",
    "print(\"inception Accuracy:- {:.2f} %\".format(trainScore))\n",
    "print(\"inception-SVM Accuracy:- {:.2f} %\".format(TrainSVMScore))\n",
    "print(\"inception-DT Accuracy:- {:.2f} %\".format(TrainDecisionScore))\n",
    "print(\"inception-KNN Accuracy:- {:.2f} %\".format(TrainKNNScore))\n",
    "print(\"inception-NB Accuracy:- {:.2f} %\".format(TrainNBScore))\n",
    "\n",
    "print(\"\\n--Testing Accuracy..\")\n",
    "print(\"inception Accuracy:- {:.2f} %\".format(Score))\n",
    "print(\"inception-SVM Accuracy:- {:.2f} %\".format(TestSVMScore))\n",
    "print(\"inception-DT Accuracy:- {:.2f} %\".format(TestDecisionScore))\n",
    "print(\"inception-KNN Accuracy:- {:.2f} %\".format(TestKNNScore))\n",
    "print(\"inception-NB Accuracy:- {:.2f} %\".format(TestNBScore))"
   ]
  },
  {
   "cell_type": "markdown",
   "id": "dae3fbf7",
   "metadata": {},
   "source": [
    "## inceptionV3 Test Plot"
   ]
  },
  {
   "cell_type": "code",
   "execution_count": 14,
   "id": "5ce86eac",
   "metadata": {},
   "outputs": [],
   "source": [
    "Methods = ['inception-SVM','inception-DT','inception-KNN','inception-NB']\n",
    "accurasies = [TestSVMScore,TestDecisionScore,TestKNNScore,TestNBScore]"
   ]
  },
  {
   "cell_type": "code",
   "execution_count": 15,
   "id": "96245bd1",
   "metadata": {},
   "outputs": [
    {
     "data": {
      "image/png": "[encoded data removed]",
      "text/plain": [
       "<Figure size 720x360 with 1 Axes>"
      ]
     },
     "metadata": {},
     "output_type": "display_data"
    }
   ],
   "source": [
    "fig = plt.figure(figsize = (10, 5))\n",
    " \n",
    "# creating the bar plot\n",
    "plt.bar(Methods, accurasies, color ='maroon',width = 0.4)\n",
    "\n",
    "plt.ylim(0, 100)\n",
    " \n",
    "plt.xlabel(\"Methods\")\n",
    "plt.ylabel(\"Accuracy\")\n",
    "plt.title(\"inception Accuracies\")\n",
    "plt.show()"
   ]
  },
  {
   "cell_type": "code",
   "execution_count": null,
   "id": "2518f268",
   "metadata": {},
   "outputs": [],
   "source": []
  }
 ],
 "metadata": {
  "kernelspec": {
   "display_name": "Python 3 (ipykernel)",
   "language": "python",
   "name": "python3"
  },
  "language_info": {
   "codemirror_mode": {
    "name": "ipython",
    "version": 3
   },
   "file_extension": ".py",
   "mimetype": "text/x-python",
   "name": "python",
   "nbconvert_exporter": "python",
   "pygments_lexer": "ipython3",
   "version": "3.8.10"
  }
 },
 "nbformat": 4,
 "nbformat_minor": 5
}
