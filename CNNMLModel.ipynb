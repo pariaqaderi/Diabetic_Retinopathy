{
 "cells": [
  {
   "cell_type": "code",
   "execution_count": 4,
   "id": "493a8870",
   "metadata": {},
   "outputs": [],
   "source": [
    "import keras\n",
    "import tensorflow\n",
    "from keras.layers import Input\n",
    "from tensorflow.keras.preprocessing.image import ImageDataGenerator\n",
    "from keras.layers import Flatten, Dense, Conv2D, MaxPooling2D, Dropout\n",
    "from tensorflow.keras.layers import Dropout\n",
    "from tensorflow.keras.layers import Flatten\n",
    "from tensorflow.keras.layers import Dense\n",
    "from tensorflow.keras.layers import Input\n",
    "from keras.layers import BatchNormalization\n",
    "from tensorflow.keras import Sequential\n",
    "from tensorflow.keras.optimizers import Adam\n",
    "from tensorflow.keras.preprocessing.image import img_to_array\n",
    "from tensorflow.keras.preprocessing.image import load_img\n",
    "from tensorflow.keras.utils import to_categorical\n",
    "from sklearn.preprocessing import LabelBinarizer\n",
    "from sklearn.model_selection import train_test_split\n",
    "from sklearn.metrics import classification_report\n",
    "from keras.models import Model\n",
    "from sklearn.utils import shuffle\n",
    "from tensorflow.keras.callbacks import ModelCheckpoint"
   ]
  },
  {
   "cell_type": "code",
   "execution_count": 5,
   "id": "72319f74",
   "metadata": {},
   "outputs": [],
   "source": [
    "data = []\n",
    "labels = []\n",
    "width,height=150,150\n",
    "\n",
    "imagePaths = list(paths.list_images(\"C:\\Jupyters\\envr\\Scripts\\diabetic_retinopathy\\colored_images\"))\n",
    "\n",
    "for imagePath in imagePaths:\n",
    "    label = imagePath.split(os.path.sep)[-2]\n",
    "    image = load_img(imagePath, target_size=(width, height))\n",
    "    image = img_to_array(image)\n",
    "    data.append(image)\n",
    "    labels.append(label)\n",
    "\n",
    "data = np.array(data, dtype=\"float32\")\n",
    "labels = np.array(labels)\n",
    "\n",
    "lb = LabelBinarizer()\n",
    "labels = lb.fit_transform(labels)\n",
    "\n",
    "data, labels = shuffle(data, labels)"
   ]
  },
  {
   "cell_type": "code",
   "execution_count": 6,
   "id": "e75ea42d",
   "metadata": {},
   "outputs": [
    {
     "name": "stdout",
     "output_type": "stream",
     "text": [
      "Train images: (2746, 150, 150, 3)\n",
      "Test images: (916, 150, 150, 3)\n",
      "Train label: (2746, 5)\n",
      "Test label: (916, 5)\n"
     ]
    }
   ],
   "source": [
    "x_train, x_test, y_train, y_test = train_test_split(data, labels, test_size = 0.25)\n",
    "\n",
    "print(\"Train images:\",x_train.shape)\n",
    "print(\"Test images:\",x_test.shape)\n",
    "print(\"Train label:\",y_train.shape)\n",
    "print(\"Test label:\",y_test.shape)"
   ]
  },
  {
   "cell_type": "code",
   "execution_count": 6,
   "id": "3a681604",
   "metadata": {},
   "outputs": [
    {
     "name": "stdout",
     "output_type": "stream",
     "text": [
      "Model: \"sequential\"\n",
      "_________________________________________________________________\n",
      " Layer (type)                Output Shape              Param #   \n",
      "=================================================================\n",
      " conv2d (Conv2D)             (None, 148, 148, 16)      448       \n",
      "                                                                 \n",
      " max_pooling2d (MaxPooling2D  (None, 74, 74, 16)       0         \n",
      " )                                                               \n",
      "                                                                 \n",
      " conv2d_1 (Conv2D)           (None, 72, 72, 32)        4640      \n",
      "                                                                 \n",
      " max_pooling2d_1 (MaxPooling  (None, 36, 36, 32)       0         \n",
      " 2D)                                                             \n",
      "                                                                 \n",
      " conv2d_2 (Conv2D)           (None, 34, 34, 64)        18496     \n",
      "                                                                 \n",
      " max_pooling2d_2 (MaxPooling  (None, 17, 17, 64)       0         \n",
      " 2D)                                                             \n",
      "                                                                 \n",
      " conv2d_3 (Conv2D)           (None, 15, 15, 128)       73856     \n",
      "                                                                 \n",
      " max_pooling2d_3 (MaxPooling  (None, 7, 7, 128)        0         \n",
      " 2D)                                                             \n",
      "                                                                 \n",
      " conv2d_4 (Conv2D)           (None, 5, 5, 256)         295168    \n",
      "                                                                 \n",
      " max_pooling2d_4 (MaxPooling  (None, 2, 2, 256)        0         \n",
      " 2D)                                                             \n",
      "                                                                 \n",
      " batch_normalization (BatchN  (None, 2, 2, 256)        1024      \n",
      " ormalization)                                                   \n",
      "                                                                 \n",
      " flatten (Flatten)           (None, 1024)              0         \n",
      "                                                                 \n",
      " dropout (Dropout)           (None, 1024)              0         \n",
      "                                                                 \n",
      " dense (Dense)               (None, 1024)              1049600   \n",
      "                                                                 \n",
      " dense_1 (Dense)             (None, 5)                 5125      \n",
      "                                                                 \n",
      "=================================================================\n",
      "Total params: 1,448,357\n",
      "Trainable params: 1,447,845\n",
      "Non-trainable params: 512\n",
      "_________________________________________________________________\n"
     ]
    }
   ],
   "source": [
    "cnn_model=Sequential()\n",
    "cnn_model.add(Conv2D(16, (3, 3),activation='relu',input_shape=(150, 150, 3)))\n",
    "cnn_model.add(MaxPooling2D(2,2))\n",
    "cnn_model.add(Conv2D(32, (3, 3),activation='relu'))\n",
    "cnn_model.add(MaxPooling2D(2,2))\n",
    "cnn_model.add(Conv2D(64, (3, 3),activation='relu'))\n",
    "cnn_model.add(MaxPooling2D(2,2))\n",
    "cnn_model.add(Conv2D(128, (3, 3), activation='relu'))\n",
    "cnn_model.add(MaxPooling2D(2,2))\n",
    "cnn_model.add(Conv2D(256, (3, 3), activation='relu'))\n",
    "cnn_model.add(MaxPooling2D(2,2))\n",
    "cnn_model.add(BatchNormalization())\n",
    "cnn_model.add(Flatten())\n",
    "cnn_model.add(Dropout(0.2))\n",
    "cnn_model.add(Dense(1024, activation='relu'))\n",
    "cnn_model.add(Dense(5, activation='sigmoid'))\n",
    "opt = Adam(learning_rate = 1e-4)\n",
    "cnn_model.compile(optimizer=opt, loss='binary_crossentropy', metrics=['accuracy'])\n",
    "cnn_model.summary()"
   ]
  },
  {
   "cell_type": "code",
   "execution_count": 27,
   "id": "c5c4fbd1",
   "metadata": {},
   "outputs": [
    {
     "name": "stdout",
     "output_type": "stream",
     "text": [
      "Epoch 1/50\n",
      "86/86 [==============================] - 23s 247ms/step - loss: 0.3503 - accuracy: 0.6358\n",
      "Epoch 2/50\n",
      "86/86 [==============================] - 24s 282ms/step - loss: 0.2739 - accuracy: 0.6970\n",
      "Epoch 3/50\n",
      "86/86 [==============================] - 22s 261ms/step - loss: 0.2557 - accuracy: 0.7298\n",
      "Epoch 4/50\n",
      "86/86 [==============================] - 27s 320ms/step - loss: 0.2463 - accuracy: 0.7367\n",
      "Epoch 5/50\n",
      "86/86 [==============================] - 36s 422ms/step - loss: 0.2337 - accuracy: 0.7458\n",
      "Epoch 6/50\n",
      "86/86 [==============================] - 42s 481ms/step - loss: 0.2281 - accuracy: 0.7546\n",
      "Epoch 7/50\n",
      "86/86 [==============================] - 42s 495ms/step - loss: 0.2196 - accuracy: 0.7644\n",
      "Epoch 8/50\n",
      "86/86 [==============================] - 37s 435ms/step - loss: 0.2101 - accuracy: 0.7637\n",
      "Epoch 9/50\n",
      "86/86 [==============================] - 40s 451ms/step - loss: 0.2084 - accuracy: 0.7797\n",
      "Epoch 10/50\n",
      "86/86 [==============================] - 36s 423ms/step - loss: 0.1996 - accuracy: 0.7760\n",
      "Epoch 11/50\n",
      "86/86 [==============================] - 36s 422ms/step - loss: 0.1904 - accuracy: 0.7983\n",
      "Epoch 12/50\n",
      "86/86 [==============================] - 38s 445ms/step - loss: 0.1845 - accuracy: 0.8026\n",
      "Epoch 13/50\n",
      "86/86 [==============================] - 36s 417ms/step - loss: 0.1769 - accuracy: 0.8095\n",
      "Epoch 14/50\n",
      "86/86 [==============================] - 36s 420ms/step - loss: 0.1736 - accuracy: 0.8205\n",
      "Epoch 15/50\n",
      "86/86 [==============================] - 36s 419ms/step - loss: 0.1641 - accuracy: 0.8296\n",
      "Epoch 16/50\n",
      "86/86 [==============================] - 36s 423ms/step - loss: 0.1522 - accuracy: 0.8485\n",
      "Epoch 17/50\n",
      "86/86 [==============================] - 35s 414ms/step - loss: 0.1422 - accuracy: 0.8602\n",
      "Epoch 18/50\n",
      "86/86 [==============================] - 35s 414ms/step - loss: 0.1311 - accuracy: 0.8795\n",
      "Epoch 19/50\n",
      "86/86 [==============================] - 38s 439ms/step - loss: 0.1186 - accuracy: 0.8940\n",
      "Epoch 20/50\n",
      "86/86 [==============================] - 27s 309ms/step - loss: 0.1111 - accuracy: 0.8951\n",
      "Epoch 21/50\n",
      "86/86 [==============================] - 23s 265ms/step - loss: 0.1005 - accuracy: 0.9075\n",
      "Epoch 22/50\n",
      "86/86 [==============================] - 29s 336ms/step - loss: 0.0935 - accuracy: 0.9232\n",
      "Epoch 23/50\n",
      "86/86 [==============================] - 34s 382ms/step - loss: 0.0837 - accuracy: 0.9359\n",
      "Epoch 24/50\n",
      "86/86 [==============================] - 26s 293ms/step - loss: 0.0763 - accuracy: 0.9439\n",
      "Epoch 25/50\n",
      "86/86 [==============================] - 21s 242ms/step - loss: 0.0722 - accuracy: 0.9479\n",
      "Epoch 26/50\n",
      "86/86 [==============================] - 21s 242ms/step - loss: 0.0620 - accuracy: 0.9552\n",
      "Epoch 27/50\n",
      "86/86 [==============================] - 21s 250ms/step - loss: 0.0588 - accuracy: 0.9639\n",
      "Epoch 28/50\n",
      "86/86 [==============================] - 25s 290ms/step - loss: 0.0547 - accuracy: 0.9683\n",
      "Epoch 29/50\n",
      "86/86 [==============================] - 33s 391ms/step - loss: 0.0446 - accuracy: 0.9727\n",
      "Epoch 30/50\n",
      "86/86 [==============================] - 29s 336ms/step - loss: 0.0443 - accuracy: 0.9694\n",
      "Epoch 31/50\n",
      "86/86 [==============================] - 29s 334ms/step - loss: 0.0391 - accuracy: 0.9792\n",
      "Epoch 32/50\n",
      "86/86 [==============================] - 25s 285ms/step - loss: 0.0361 - accuracy: 0.9756\n",
      "Epoch 33/50\n",
      "86/86 [==============================] - 22s 252ms/step - loss: 0.0374 - accuracy: 0.9756\n",
      "Epoch 34/50\n",
      "86/86 [==============================] - 27s 311ms/step - loss: 0.0346 - accuracy: 0.9792\n",
      "Epoch 35/50\n",
      "86/86 [==============================] - 32s 377ms/step - loss: 0.0338 - accuracy: 0.9811\n",
      "Epoch 36/50\n",
      "86/86 [==============================] - 29s 339ms/step - loss: 0.0375 - accuracy: 0.9749\n",
      "Epoch 37/50\n",
      "86/86 [==============================] - 28s 317ms/step - loss: 0.0325 - accuracy: 0.9796\n",
      "Epoch 38/50\n",
      "86/86 [==============================] - 29s 337ms/step - loss: 0.0270 - accuracy: 0.9840\n",
      "Epoch 39/50\n",
      "86/86 [==============================] - 21s 248ms/step - loss: 0.0262 - accuracy: 0.9873\n",
      "Epoch 40/50\n",
      "86/86 [==============================] - 25s 291ms/step - loss: 0.0274 - accuracy: 0.9829\n",
      "Epoch 41/50\n",
      "86/86 [==============================] - 30s 347ms/step - loss: 0.0257 - accuracy: 0.9829\n",
      "Epoch 42/50\n",
      "86/86 [==============================] - 34s 392ms/step - loss: 0.0219 - accuracy: 0.9851\n",
      "Epoch 43/50\n",
      "86/86 [==============================] - 38s 434ms/step - loss: 0.0234 - accuracy: 0.9869\n",
      "Epoch 44/50\n",
      "86/86 [==============================] - 32s 377ms/step - loss: 0.0222 - accuracy: 0.9873\n",
      "Epoch 45/50\n",
      "86/86 [==============================] - 21s 242ms/step - loss: 0.0218 - accuracy: 0.9862\n",
      "Epoch 46/50\n",
      "86/86 [==============================] - 21s 245ms/step - loss: 0.0258 - accuracy: 0.9858\n",
      "Epoch 47/50\n",
      "86/86 [==============================] - 23s 263ms/step - loss: 0.0226 - accuracy: 0.9862\n",
      "Epoch 48/50\n",
      "86/86 [==============================] - 28s 328ms/step - loss: 0.0214 - accuracy: 0.9869\n",
      "Epoch 49/50\n",
      "86/86 [==============================] - 29s 344ms/step - loss: 0.0224 - accuracy: 0.9851\n",
      "Epoch 50/50\n",
      "86/86 [==============================] - 22s 261ms/step - loss: 0.0197 - accuracy: 0.9869\n"
     ]
    }
   ],
   "source": [
    "filepath='best_model__cnn.h5'\n",
    "cnn_model.fit(x_train,y_train,epochs=50)\n",
    "cnn_model.save(filepath)"
   ]
  },
  {
   "cell_type": "code",
   "execution_count": 28,
   "id": "292b9667",
   "metadata": {},
   "outputs": [],
   "source": [
    "mild = []\n",
    "No_DR = []\n",
    "Moderate = []\n",
    "Severe = []\n",
    "Proliferate_DR = []\n",
    "\n",
    "\"C:\\Jupyters\\envr\\Scripts\\diabetic_retinopathy\\colored_images\\Mild\\0a61bddab956.png\"\n",
    "\"C:\\Jupyters\\envr\\Scripts\\diabetic_retinopathy\\colored_images\\Moderate\\0c2e2369dfff.png\"\n",
    "\n",
    "mild_labels = []\n",
    "No_DR_labels = []\n",
    "Moderate_labels = []\n",
    "Severe_labels = []\n",
    "Proliferate_DR_labels = []\n",
    "\n",
    "for imagePath in imagePaths:\n",
    "    label = imageP6tath.split(os.path.sep)[-2]\n",
    "    if(label == 'Mild'):\n",
    "        image = load_img(imagePath, target_size=(width, height))\n",
    "        image = img_to_array(image)\n",
    "        mild.append(image)\n",
    "        mild_labels.append(0)\n",
    "    if(label == 'No_DR'):\n",
    "        image = load_img(imagePath, target_size=(width, height))\n",
    "        image = img_to_array(image)\n",
    "        No_DR.append(image)\n",
    "        No_DR_labels.append(2)\n",
    "    if(label == 'Moderate'):\n",
    "        image = load_img(imagePath, target_size=(width, height))\n",
    "        image = img_to_array(image)\n",
    "        Moderate.append(image)\n",
    "        Moderate_labels.append(1)\n",
    "    if(label == 'Severe'):\n",
    "        image = load_img(imagePath, target_size=(width, height))\n",
    "        image = img_to_array(image)\n",
    "        Severe.append(image)\n",
    "        Severe_labels.append(4)\n",
    "    if(label == 'Proliferate_DR'):\n",
    "        image = load_img(imagePath, target_size=(width, height))\n",
    "        image = img_to_array(image)\n",
    "        Proliferate_DR.append(image)\n",
    "        Proliferate_DR_labels.append(3)\n",
    "    \n",
    "mild = np.array(mild, dtype=\"float32\")\n",
    "No_DR = np.array(No_DR, dtype=\"float32\")\n",
    "Moderate = np.array(Moderate, dtype=\"float32\")\n",
    "Severe = np.array(Severe, dtype=\"float32\")\n",
    "Proliferate_DR = np.array(Proliferate_DR, dtype=\"float32\")"
   ]
  },
  {
   "cell_type": "code",
   "execution_count": 34,
   "id": "5e03e2ca",
   "metadata": {},
   "outputs": [
    {
     "name": "stdout",
     "output_type": "stream",
     "text": [
      "29/29 [==============================] - 2s 81ms/step\n",
      "74.235807860262\n"
     ]
    }
   ],
   "source": [
    "from sklearn.metrics import accuracy_score\n",
    "predIdxs = cnn_model.predict(x_test, batch_size=BS)\n",
    "CNNScore = accuracy_score(predIdxs.argmax(axis=1),y_test.argmax(axis=1))*100\n",
    "print(CNNScore)"
   ]
  },
  {
   "cell_type": "code",
   "execution_count": null,
   "id": "bfc96999",
   "metadata": {},
   "outputs": [],
   "source": [
    "print('Mild score is: ' + str(mild_score))\n",
    "print('No_DR score is: ' + str(No_DR_score))\n",
    "print('Moderate score is: ' + str(Moderate_score))\n",
    "print('Severe score is: ' + str(Severe_score))\n",
    "print('Proliferate_DR score is: ' + str(Proliferate_DR_score))"
   ]
  },
  {
   "cell_type": "code",
   "execution_count": 8,
   "id": "da9ac353",
   "metadata": {},
   "outputs": [
    {
     "name": "stdout",
     "output_type": "stream",
     "text": [
      "[INFO] evaluating network...\n",
      "29/29 [==============================] - 2s 75ms/step\n",
      "86/86 [==============================] - 6s 70ms/step\n",
      "\n",
      "Trainig Accuracy Score:- 98.47050254916242\n",
      "\n",
      "Testing Accuracy Score:- 77.18340611353712\n",
      "\n",
      "Traning Graph:- \n",
      " \n"
     ]
    },
    {
     "data": {
      "image/png": "[encoded data removed]",
      "text/plain": [
       "<Figure size 432x288 with 1 Axes>"
      ]
     },
     "metadata": {},
     "output_type": "display_data"
    }
   ],
   "source": [
    "# NETWORK ACCURACY\n",
    "test_pred = cnn_model.predict(x_test, batch_size=32)\n",
    "test_pred = np.argmax(test_pred, axis=1)\n",
    "CNNScore = accuracy_score(test_pred,y_test.argmax(axis=1))*100"
   ]
  },
  {
   "cell_type": "code",
   "execution_count": null,
   "id": "95f7ebb3",
   "metadata": {},
   "outputs": [],
   "source": [
    "# EXTRACTING FEATURES\n",
    "extract = Model(cnn_model.inputs, cnn_model.layers[-4].output)\n",
    "train_cnn_fit  = extract.predict(x_train)\n",
    "test_cnn_fit = extract.predict(x_test)  \n",
    "\n",
    "svm = SVC(kernel='linear')\n",
    "svm.fit(train_cnn_fit,np.argmax(y_train,axis=1))\n",
    "TestSVMScoreCNN = svm.score(test_cnn_fit,np.argmax(y_test,axis=1))*100\n",
    "\n",
    "clf = DecisionTreeClassifier(random_state=0)\n",
    "clf = clf.fit(train_cnn_fit,np.argmax(y_train,axis=1))\n",
    "TestDecisionScoreCNN = clf.score(test_cnn_fit,np.argmax(y_test,axis=1))*100\n",
    "\n",
    "knn = KNeighborsClassifier(n_neighbors=5)\n",
    "knn.fit(train_cnn_fit,np.argmax(y_train,axis=1))\n",
    "TestKNNScoreCNN = knn.score(test_cnn_fit,np.argmax(y_test,axis=1))*100\n",
    "\n",
    "gnb = GaussianNB()\n",
    "gnb.fit(train_cnn_fit,np.argmax(y_train,axis=1))\n",
    "TestNBScoreCNN = gnb.score(test_cnn_fit,np.argmax(y_test,axis=1))*100"
   ]
  },
  {
   "cell_type": "code",
   "execution_count": 9,
   "id": "94a76fda",
   "metadata": {},
   "outputs": [
    {
     "name": "stdout",
     "output_type": "stream",
     "text": [
      "86/86 [==============================] - 6s 70ms/step\n",
      "29/29 [==============================] - 2s 68ms/step\n",
      "(2746, 1024)\n"
     ]
    }
   ],
   "source": [
    "extractCNN = Model(cnn_model.inputs, cnn_model.layers[-4].output)\n",
    "\n",
    "#del(data)\n",
    "#del(labels)\n",
    "feat_trainCNN  = extractCNN.predict(x_train)\n",
    "feat_testCNN = extractCNN.predict(x_test)  \n",
    "\n",
    "print(feat_trainCNN.shape)"
   ]
  },
  {
   "cell_type": "markdown",
   "id": "c72ca772",
   "metadata": {},
   "source": [
    "## SVM"
   ]
  },
  {
   "cell_type": "code",
   "execution_count": 10,
   "id": "621b2eb1",
   "metadata": {},
   "outputs": [
    {
     "name": "stdout",
     "output_type": "stream",
     "text": [
      "SVM Training Accuracy Score:- 99.34450109249818\n",
      "\n",
      "SVM Testing Accuracy Score:- 74.89082969432314\n"
     ]
    }
   ],
   "source": [
    "from sklearn.svm import SVC\n",
    "\n",
    "svm = SVC(kernel='linear')\n",
    "svm.fit(feat_trainCNN,np.argmax(y_train,axis=1))\n",
    "\n",
    "TrainSVMScoreCNN=svm.score(feat_trainCNN,np.argmax(y_train,axis=1))*100\n",
    "print(\"SVM Training Accuracy Score:-\",TrainSVMScoreCNN)\n",
    "\n",
    "TestSVMScoreCNN=svm.score(feat_testCNN,np.argmax(y_test,axis=1))*100\n",
    "print(\"\\nSVM Testing Accuracy Score:-\",TestSVMScoreCNN)"
   ]
  },
  {
   "cell_type": "markdown",
   "id": "93e3cbcc",
   "metadata": {},
   "source": [
    "## Decision Tree"
   ]
  },
  {
   "cell_type": "code",
   "execution_count": 11,
   "id": "e50df3bb",
   "metadata": {},
   "outputs": [
    {
     "name": "stdout",
     "output_type": "stream",
     "text": [
      "Decision Tree Training Accuracy Score:- 99.38091769847051\n",
      "\n",
      "Decision Tree Testing Accuracy Score:- 66.8122270742358\n"
     ]
    }
   ],
   "source": [
    "from sklearn.tree import DecisionTreeClassifier\n",
    "\n",
    "clf = DecisionTreeClassifier(random_state=0)\n",
    "clf = clf.fit(feat_trainCNN,np.argmax(y_train,axis=1))\n",
    "\n",
    "TrainDecisionScoreCNN=clf.score(feat_trainCNN,np.argmax(y_train,axis=1))*100\n",
    "print(\"Decision Tree Training Accuracy Score:-\",TrainDecisionScoreCNN)\n",
    "\n",
    "\n",
    "TestDecisionScoreCNN=clf.score(feat_testCNN,np.argmax(y_test,axis=1))*100\n",
    "print(\"\\nDecision Tree Testing Accuracy Score:-\",TestDecisionScoreCNN)"
   ]
  },
  {
   "cell_type": "markdown",
   "id": "a07924b4",
   "metadata": {},
   "source": [
    "## K-Nearest Neighbor(KNN)"
   ]
  },
  {
   "cell_type": "code",
   "execution_count": 12,
   "id": "5bcf6af4",
   "metadata": {},
   "outputs": [
    {
     "name": "stdout",
     "output_type": "stream",
     "text": [
      "KNN Training Accuracy Score:- 82.33794610342316\n",
      "\n",
      "KNN Testing Accuracy Score:- 72.70742358078603\n"
     ]
    }
   ],
   "source": [
    "from sklearn.neighbors import KNeighborsClassifier\n",
    "\n",
    "knn = KNeighborsClassifier(n_neighbors=5)\n",
    "knn.fit(feat_trainCNN,np.argmax(y_train,axis=1))\n",
    "\n",
    "TrainKNNScoreCNN=knn.score(feat_trainCNN,np.argmax(y_train,axis=1))*100\n",
    "print(\"KNN Training Accuracy Score:-\",TrainKNNScoreCNN)\n",
    "\n",
    "TestKNNScoreCNN=knn.score(feat_testCNN,np.argmax(y_test,axis=1))*100\n",
    "print(\"\\nKNN Testing Accuracy Score:-\",TestKNNScoreCNN)"
   ]
  },
  {
   "cell_type": "markdown",
   "id": "e8c79f63",
   "metadata": {},
   "source": [
    "## Gaussian Naive Bayes"
   ]
  },
  {
   "cell_type": "code",
   "execution_count": 13,
   "id": "dd833261",
   "metadata": {},
   "outputs": [
    {
     "name": "stdout",
     "output_type": "stream",
     "text": [
      "\n",
      "GaussianNaive Bayes Training Accuracy Score:- 40.09468317552804\n",
      "\n",
      "GaussianNaive Bayes Testing Accuracy Score:- 33.51528384279476\n"
     ]
    }
   ],
   "source": [
    "from sklearn.naive_bayes import GaussianNB\n",
    "\n",
    "gnb = GaussianNB()\n",
    "gnb.fit(feat_trainCNN,np.argmax(y_train,axis=1))\n",
    "\n",
    "TrainNBScoreCNN=gnb.score(feat_trainCNN,np.argmax(y_train,axis=1))*100\n",
    "print(\"\\nGaussianNaive Bayes Training Accuracy Score:-\",TrainNBScoreCNN)\n",
    "\n",
    "TestNBScoreCNN=gnb.score(feat_testCNN,np.argmax(y_test,axis=1))*100\n",
    "print(\"\\nGaussianNaive Bayes Testing Accuracy Score:-\",TestNBScoreCNN)"
   ]
  },
  {
   "cell_type": "code",
   "execution_count": 14,
   "id": "aeeca900",
   "metadata": {},
   "outputs": [
    {
     "name": "stdout",
     "output_type": "stream",
     "text": [
      "--Training Accuracy..\n",
      "CNN Accuracy:- 98.47 %\n",
      "CNN-SVM Accuracy:- 99.34 %\n",
      "CNN-DT Accuracy:- 99.38 %\n",
      "CNN-KNN Accuracy:- 82.34 %\n",
      "CNN-NB Accuracy:- 40.09 %\n",
      "\n",
      "--Testing Accuracy..\n",
      "CNN Accuracy:- 77.18 %\n",
      "CNN-SVM Accuracy:- 74.89 %\n",
      "CNN-DT Accuracy:- 66.81 %\n",
      "CNN-KNN Accuracy:- 72.71 %\n",
      "CNN-NB Accuracy:- 33.52 %\n"
     ]
    }
   ],
   "source": [
    "print(\"--Training Accuracy..\")\n",
    "print(\"CNN Accuracy:- {:.2f} %\".format(trainCNNScore))\n",
    "print(\"CNN-SVM Accuracy:- {:.2f} %\".format(TrainSVMScoreCNN))\n",
    "print(\"CNN-DT Accuracy:- {:.2f} %\".format(TrainDecisionScoreCNN))\n",
    "print(\"CNN-KNN Accuracy:- {:.2f} %\".format(TrainKNNScoreCNN))\n",
    "print(\"CNN-NB Accuracy:- {:.2f} %\".format(TrainNBScoreCNN))\n",
    "\n",
    "print(\"\\n--Testing Accuracy..\")\n",
    "print(\"CNN Accuracy:- {:.2f} %\".format(CNNScore))\n",
    "print(\"CNN-SVM Accuracy:- {:.2f} %\".format(TestSVMScoreCNN))\n",
    "print(\"CNN-DT Accuracy:- {:.2f} %\".format(TestDecisionScoreCNN))\n",
    "print(\"CNN-KNN Accuracy:- {:.2f} %\".format(TestKNNScoreCNN))\n",
    "print(\"CNN-NB Accuracy:- {:.2f} %\".format(TestNBScoreCNN))"
   ]
  }
 ],
 "metadata": {
  "kernelspec": {
   "display_name": "Python 3 (ipykernel)",
   "language": "python",
   "name": "python3"
  },
  "language_info": {
   "codemirror_mode": {
    "name": "ipython",
    "version": 3
   },
   "file_extension": ".py",
   "mimetype": "text/x-python",
   "name": "python",
   "nbconvert_exporter": "python",
   "pygments_lexer": "ipython3",
   "version": "3.8.10"
  }
 },
 "nbformat": 4,
 "nbformat_minor": 5
}
